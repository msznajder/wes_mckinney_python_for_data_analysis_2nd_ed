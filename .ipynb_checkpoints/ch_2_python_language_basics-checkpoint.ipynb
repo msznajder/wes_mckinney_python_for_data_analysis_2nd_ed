{
 "cells": [
  {
   "cell_type": "markdown",
   "metadata": {},
   "source": [
    "# Python Language Basics, IPython, and Jupyter Notebooks\n",
    "\n",
    "## 2.1 The Python interpreter\n",
    "\n",
    "Run script stored in file from Jupyter notebook."
   ]
  },
  {
   "cell_type": "markdown",
   "metadata": {},
   "source": [
    "You can call Python interpreter by calling `python` in terminal. You run scripts using it. Exit it by calling `exit()`. \n",
    "\n",
    "You can also call also use IPython console - an enhanced Python interpreter - by calling `ipython`.\n",
    "\n",
    "Run scripts from IPython console by clalling `%run hello_world.py`.\n",
    "\n",
    "The last alternative is using Jupyter notebook by calling `jupyter notebook` (http://localhost:8888/)."
   ]
  },
  {
   "cell_type": "markdown",
   "metadata": {
    "collapsed": true
   },
   "source": [
    "## 2.2 IPython Basics\n",
    "\n",
    "### Running the IPython Shell"
   ]
  },
  {
   "cell_type": "markdown",
   "metadata": {},
   "source": [
    "Use pretty print for clarity."
   ]
  },
  {
   "cell_type": "code",
   "execution_count": 2,
   "metadata": {
    "collapsed": true
   },
   "outputs": [],
   "source": [
    "import numpy as np"
   ]
  },
  {
   "cell_type": "code",
   "execution_count": 4,
   "metadata": {
    "collapsed": false
   },
   "outputs": [
    {
     "data": {
      "text/plain": [
       "{0: 0.17842767476662136,\n",
       " 1: 0.5460357038062909,\n",
       " 2: -0.2520211661018981,\n",
       " 3: -2.4826966714240557,\n",
       " 4: 1.3803935975974275,\n",
       " 5: 0.43632834306677587,\n",
       " 6: 0.2918482206018506}"
      ]
     },
     "execution_count": 4,
     "metadata": {},
     "output_type": "execute_result"
    }
   ],
   "source": [
    "data = {i : np.random.randn() for i in range(7)}\n",
    "data"
   ]
  },
  {
   "cell_type": "code",
   "execution_count": 5,
   "metadata": {
    "collapsed": false
   },
   "outputs": [
    {
     "name": "stdout",
     "output_type": "stream",
     "text": [
      "{0: 0.17842767476662136, 1: 0.5460357038062909, 2: -0.2520211661018981, 3: -2.4826966714240557, 4: 1.3803935975974275, 5: 0.43632834306677587, 6: 0.2918482206018506}\n"
     ]
    }
   ],
   "source": [
    "print(data)"
   ]
  },
  {
   "cell_type": "markdown",
   "metadata": {
    "collapsed": true
   },
   "source": [
    "### Running the Jupyter Notebook"
   ]
  },
  {
   "cell_type": "markdown",
   "metadata": {},
   "source": [
    "One of the major components of the Jupyter project is the notebook, a type of interactive\n",
    "document for code, text (with or without markup), data visualizations, and other\n",
    "output. \n",
    "\n",
    "The Jupyter notebook interacts with kernels, which are implementations of the Jupyter interactive computing protocol in any number of programming languages.\n",
    "Python’s Jupyter kernel uses the IPython system for its underlying behavior.\n",
    "\n",
    "Start Jupyter using `jupyter notebook` in the terminal."
   ]
  },
  {
   "cell_type": "markdown",
   "metadata": {},
   "source": [
    "### Tab Completion\n",
    "On the surface, the IPython shell looks like a cosmetically different version of the\n",
    "standard terminal Python interpreter (invoked with python). One of the major\n",
    "improvements over the standard Python shell is tab completion, found in many IDEs\n",
    "or other interactive computing analysis environments. While entering expressions in\n",
    "the shell, pressing the Tab key will search the namespace for any variables (objects,\n",
    "functions, etc.) matching the characters you have typed so far.\n"
   ]
  },
  {
   "cell_type": "code",
   "execution_count": 6,
   "metadata": {
    "collapsed": true
   },
   "outputs": [],
   "source": [
    "an_apple = 27\n",
    "an_example = 42"
   ]
  },
  {
   "cell_type": "markdown",
   "metadata": {},
   "source": [
    "Try `an_<tab>` here for completion"
   ]
  },
  {
   "cell_type": "code",
   "execution_count": null,
   "metadata": {
    "collapsed": true
   },
   "outputs": [],
   "source": [
    "an_"
   ]
  },
  {
   "cell_type": "markdown",
   "metadata": {},
   "source": [
    "You can also complete\n",
    "methods and attributes on any object after typing a period."
   ]
  },
  {
   "cell_type": "code",
   "execution_count": 7,
   "metadata": {
    "collapsed": true
   },
   "outputs": [],
   "source": [
    "b = [1, 2, 3]"
   ]
  },
  {
   "cell_type": "markdown",
   "metadata": {
    "collapsed": true
   },
   "source": [
    "Use `b.<tab>` here to get object methods."
   ]
  },
  {
   "cell_type": "code",
   "execution_count": null,
   "metadata": {
    "collapsed": true
   },
   "outputs": [],
   "source": [
    "b."
   ]
  },
  {
   "cell_type": "markdown",
   "metadata": {},
   "source": [
    "The same goes for modules."
   ]
  },
  {
   "cell_type": "code",
   "execution_count": 8,
   "metadata": {
    "collapsed": true
   },
   "outputs": [],
   "source": [
    "import datetime"
   ]
  },
  {
   "cell_type": "markdown",
   "metadata": {
    "collapsed": true
   },
   "source": [
    "Use `datetime.<tab>`."
   ]
  },
  {
   "cell_type": "code",
   "execution_count": null,
   "metadata": {
    "collapsed": true
   },
   "outputs": [],
   "source": [
    "datetime."
   ]
  },
  {
   "cell_type": "markdown",
   "metadata": {},
   "source": [
    "Note that IPython by default hides methods and attributes starting\n",
    "with underscores, such as magic methods and internal “private”\n",
    "methods and attributes, in order to avoid cluttering the display\n",
    "(and confusing novice users!). These, too, can be tab-completed,\n",
    "but you must first type an underscore to see them. If you prefer to\n",
    "always see such methods in tab completion, you can change this\n",
    "setting in the IPython configuration. See the IPython documentation\n",
    "to find out how to do this."
   ]
  },
  {
   "cell_type": "markdown",
   "metadata": {},
   "source": [
    "When typing anything that looks\n",
    "like a file path (even in a Python string), pressing the Tab key will complete anything\n",
    "on your computer’s filesystem matching what you’ve typed.\n",
    "\n",
    "Try typing `data<tab>`."
   ]
  },
  {
   "cell_type": "code",
   "execution_count": 2,
   "metadata": {
    "collapsed": false
   },
   "outputs": [
    {
     "name": "stdout",
     "output_type": "stream",
     "text": [
      "README.md                          \u001b[34mdatasets\u001b[m\u001b[m/\r\n",
      "ch_2_python_language_basics.ipynb  \u001b[34mscripts\u001b[m\u001b[m/\r\n"
     ]
    }
   ],
   "source": [
    "\"data"
   ]
  },
  {
   "cell_type": "markdown",
   "metadata": {
    "collapsed": true
   },
   "source": [
    "Combined with the %run command this\n",
    "functionality can save you many keystrokes."
   ]
  },
  {
   "cell_type": "markdown",
   "metadata": {
    "collapsed": true
   },
   "source": [
    "Another area where tab completion saves time is in the completion of function keyword\n",
    "arguments (and including the = sign!)."
   ]
  },
  {
   "cell_type": "code",
   "execution_count": 5,
   "metadata": {
    "collapsed": false
   },
   "outputs": [],
   "source": [
    "def func_with_keywords(abra=1, abbra=2, abbbra=3):\n",
    "    return abra, abbra, abbbra"
   ]
  },
  {
   "cell_type": "markdown",
   "metadata": {},
   "source": [
    "Type `func_with_keywords(ab<tab>`."
   ]
  },
  {
   "cell_type": "code",
   "execution_count": null,
   "metadata": {
    "collapsed": true
   },
   "outputs": [],
   "source": [
    "func_with_keywords(ab"
   ]
  },
  {
   "cell_type": "markdown",
   "metadata": {
    "collapsed": true
   },
   "source": [
    "### Introspection\n",
    "\n",
    "Using a question mark (?) before or after a variable will display some general information\n",
    "about the object."
   ]
  },
  {
   "cell_type": "code",
   "execution_count": 6,
   "metadata": {
    "collapsed": true
   },
   "outputs": [],
   "source": [
    "b = [1, 2, 3]"
   ]
  },
  {
   "cell_type": "code",
   "execution_count": 7,
   "metadata": {
    "collapsed": true
   },
   "outputs": [],
   "source": [
    "b?"
   ]
  },
  {
   "cell_type": "code",
   "execution_count": 8,
   "metadata": {
    "collapsed": true
   },
   "outputs": [],
   "source": [
    "print?"
   ]
  },
  {
   "cell_type": "markdown",
   "metadata": {
    "collapsed": true
   },
   "source": [
    "This is referred to as object introspection. If the object is a function or instance\n",
    "method, the docstring, if defined, will also be shown."
   ]
  },
  {
   "cell_type": "code",
   "execution_count": 9,
   "metadata": {
    "collapsed": true
   },
   "outputs": [],
   "source": [
    "def add_numbers(a, b):\n",
    "    \"\"\"\n",
    "    Add two numbers together\n",
    "    \n",
    "    Returns\n",
    "    -------\n",
    "    the_sum : type of arguments\n",
    "    \"\"\"\n",
    "    return a + b"
   ]
  },
  {
   "cell_type": "code",
   "execution_count": 10,
   "metadata": {
    "collapsed": true
   },
   "outputs": [],
   "source": [
    "add_numbers?"
   ]
  },
  {
   "cell_type": "markdown",
   "metadata": {},
   "source": [
    "Using ?? will also show the function’s source code if possible."
   ]
  },
  {
   "cell_type": "code",
   "execution_count": 11,
   "metadata": {
    "collapsed": true
   },
   "outputs": [],
   "source": [
    "add_numbers??"
   ]
  },
  {
   "cell_type": "markdown",
   "metadata": {},
   "source": [
    "? has a final usage, which is for searching the IPython namespace in a manner similar\n",
    "to the standard Unix or Windows command line. A number of characters combined\n",
    "with the wildcard (*) will show all names matching the wildcard expression. For\n",
    "example, we could get a list of all functions in the top-level NumPy namespace containing\n",
    "load."
   ]
  },
  {
   "cell_type": "code",
   "execution_count": 23,
   "metadata": {
    "collapsed": false
   },
   "outputs": [],
   "source": [
    "import numpy as np"
   ]
  },
  {
   "cell_type": "code",
   "execution_count": 24,
   "metadata": {
    "collapsed": true
   },
   "outputs": [],
   "source": [
    "np.*load*?"
   ]
  },
  {
   "cell_type": "markdown",
   "metadata": {},
   "source": [
    "### The %run Command\n",
    "\n",
    "You can run any file as a Python program inside the environment of your IPython\n",
    "session using the %run command. Suppose you had the following simple script stored\n",
    "in ipython_script_test.py."
   ]
  },
  {
   "cell_type": "code",
   "execution_count": 26,
   "metadata": {
    "collapsed": false
   },
   "outputs": [],
   "source": [
    "%run scripts/ipython_script_test.py"
   ]
  },
  {
   "cell_type": "markdown",
   "metadata": {},
   "source": [
    "The script is run in an empty namespace (with no imports or other variables defined)\n",
    "so that the behavior should be identical to running the program on the command line\n",
    "using python script.py. All of the variables (imports, functions, and globals)\n",
    "defined in the file (up until an exception, if any, is raised) will then be accessible in\n",
    "the IPython shell."
   ]
  },
  {
   "cell_type": "code",
   "execution_count": 27,
   "metadata": {
    "collapsed": false
   },
   "outputs": [
    {
     "data": {
      "text/plain": [
       "7.5"
      ]
     },
     "execution_count": 27,
     "metadata": {},
     "output_type": "execute_result"
    }
   ],
   "source": [
    "c"
   ]
  },
  {
   "cell_type": "code",
   "execution_count": 28,
   "metadata": {
    "collapsed": false
   },
   "outputs": [
    {
     "data": {
      "text/plain": [
       "1.8"
      ]
     },
     "execution_count": 28,
     "metadata": {},
     "output_type": "execute_result"
    }
   ],
   "source": [
    "result"
   ]
  },
  {
   "cell_type": "markdown",
   "metadata": {},
   "source": [
    "If a Python script expects command-line arguments (to be found in sys.argv), these\n",
    "can be passed after the file path as though run on the command line."
   ]
  },
  {
   "cell_type": "markdown",
   "metadata": {},
   "source": [
    "Should you wish to give a script access to variables already defined\n",
    "in the interactive IPython namespace, use %run -i instead of plain\n",
    "%run."
   ]
  },
  {
   "cell_type": "markdown",
   "metadata": {},
   "source": [
    "In the Jupyter notebook, you may also use the related %load magic function, which\n",
    "imports a script into a code cell."
   ]
  },
  {
   "cell_type": "code",
   "execution_count": null,
   "metadata": {
    "collapsed": true
   },
   "outputs": [],
   "source": [
    "# %load scripts/ipython_script_test.py\n",
    "def f(x, y, z):\n",
    "\treturn (z + y) / z\n",
    "\n",
    "\n",
    "a = 5\n",
    "b = 6\n",
    "c = 7.5\n",
    "\n",
    "result = f(a, b, c)"
   ]
  },
  {
   "cell_type": "markdown",
   "metadata": {},
   "source": [
    "### Interrupting running code\n",
    "\n",
    "Pressing Ctrl-C while any code is running, whether a script through %run or a longrunning\n",
    "command, will cause a KeyboardInterrupt to be raised. This will cause\n",
    "nearly all Python programs to stop immediately except in certain unusual cases.\n",
    "\n",
    "When a piece of Python code has called into some compiled extension\n",
    "modules, pressing Ctrl-C will not always cause the program\n",
    "execution to stop immediately. In such cases, you will have to\n",
    "either wait until control is returned to the Python interpreter, or in\n",
    "more dire circumstances, forcibly terminate the Python process."
   ]
  },
  {
   "cell_type": "markdown",
   "metadata": {},
   "source": [
    "### Executing code from the clipboard\n",
    "\n",
    "If you are using the Jupyter notebook, you can copy and paste code into any code cell\n",
    "and execute it. It is also possible to run code from the clipboard in the IPython shell.\n",
    "Suppose you had the following code in some other application."
   ]
  },
  {
   "cell_type": "code",
   "execution_count": 30,
   "metadata": {
    "collapsed": true
   },
   "outputs": [],
   "source": [
    "x = 5\n",
    "y = 7\n",
    "if x > 5:\n",
    "    x += 1\n",
    "    \n",
    "    y = 8"
   ]
  },
  {
   "cell_type": "markdown",
   "metadata": {},
   "source": [
    "The most foolproof methods are the %paste and %cpaste magic functions. %paste\n",
    "takes whatever text is in the clipboard and executes it as a single block in the shell.\n",
    "\n",
    "Copy the code above."
   ]
  },
  {
   "cell_type": "code",
   "execution_count": 1,
   "metadata": {
    "collapsed": false
   },
   "outputs": [
    {
     "name": "stderr",
     "output_type": "stream",
     "text": [
      "ERROR:root:Line magic function `%paste` not found.\n"
     ]
    }
   ],
   "source": [
    "%paste"
   ]
  },
  {
   "cell_type": "markdown",
   "metadata": {},
   "source": [
    "%cpaste is similar, except that it gives you a special prompt for pasting code intom"
   ]
  },
  {
   "cell_type": "code",
   "execution_count": 2,
   "metadata": {
    "collapsed": false
   },
   "outputs": [
    {
     "name": "stderr",
     "output_type": "stream",
     "text": [
      "ERROR:root:Line magic function `%cpaste` not found.\n"
     ]
    }
   ],
   "source": [
    "%cpaste"
   ]
  },
  {
   "cell_type": "markdown",
   "metadata": {
    "collapsed": true
   },
   "source": [
    "With the %cpaste block, you have the freedom to paste as much code as you like\n",
    "before executing it. You might decide to use %cpaste in order to look at the pasted\n",
    "code before executing it. If you accidentally paste the wrong code, you can break out\n",
    "of the %cpaste prompt by pressing Ctrl-C."
   ]
  },
  {
   "cell_type": "markdown",
   "metadata": {
    "collapsed": true
   },
   "source": [
    "### Terminal keyboar shortcuts\n",
    "\n",
    "IPython has many keyboard shortcuts for navigating the prompt (which will be familiar\n",
    "to users of the Emacs text editor or the Unix bash shell) and interacting with the\n",
    "shell’s command history. "
   ]
  },
  {
   "cell_type": "markdown",
   "metadata": {
    "collapsed": true
   },
   "source": [
    "```\n",
    "Ctrl-P or up-arrow Search backward in command history for commands starting with currently entered text\n",
    "Ctrl-N or down-arrow Search forward in command history for commands starting with currently entered text\n",
    "Ctrl-R Readline-style reverse history search (partial matching)\n",
    "Ctrl-Shift-V Paste text from clipboard\n",
    "Ctrl-C Interrupt currently executing code\n",
    "Ctrl-A Move cursor to beginning of line\n",
    "Ctrl-E Move cursor to end of line\n",
    "Ctrl-K Delete text from cursor until end of line\n",
    "Ctrl-U Discard all text on current line\n",
    "Ctrl-F Move cursor forward one character\n",
    "Ctrl-B Move cursor back one character\n",
    "Ctrl-L Clear screen\n",
    "```\n"
   ]
  },
  {
   "cell_type": "markdown",
   "metadata": {},
   "source": [
    "![alt text](resources/ch_2_1.png)"
   ]
  },
  {
   "cell_type": "markdown",
   "metadata": {
    "collapsed": true
   },
   "source": [
    "Note that Jupyter notebooks have a largely separate set of keyboard shortcuts for navigation\n",
    "and editing. Since these shortcuts have evolved more rapidly than IPython’s, I\n",
    "encourage you to explore the integrated help system in the Jupyter notebook’s menus."
   ]
  },
  {
   "cell_type": "markdown",
   "metadata": {
    "collapsed": true
   },
   "source": [
    "### About magic commands\n",
    "\n",
    "IPython’s special commands (which are not built into Python itself) are known as\n",
    "“magic” commands. These are designed to facilitate common tasks and enable you to\n",
    "easily control the behavior of the IPython system. A magic command is any command\n",
    "prefixed by the percent symbol %. For example, you can check the execution\n",
    "time of any Python statement, such as a matrix multiplication, using the %timeit\n",
    "magic function (which will be discussed in more detail later)."
   ]
  },
  {
   "cell_type": "code",
   "execution_count": 4,
   "metadata": {
    "collapsed": true
   },
   "outputs": [],
   "source": [
    "import numpy as np"
   ]
  },
  {
   "cell_type": "code",
   "execution_count": 5,
   "metadata": {
    "collapsed": false
   },
   "outputs": [],
   "source": [
    "a = np.random.randn(100, 100)"
   ]
  },
  {
   "cell_type": "code",
   "execution_count": 6,
   "metadata": {
    "collapsed": false
   },
   "outputs": [
    {
     "name": "stdout",
     "output_type": "stream",
     "text": [
      "The slowest run took 4648.50 times longer than the fastest. This could mean that an intermediate result is being cached.\n",
      "10000 loops, best of 3: 34.3 µs per loop\n"
     ]
    }
   ],
   "source": [
    "%timeit np.dot(a, a)"
   ]
  },
  {
   "cell_type": "markdown",
   "metadata": {},
   "source": [
    "Magic commands can be viewed as command-line programs to be run within the\n",
    "IPython system. Many of them have additional “command-line” options, which can\n",
    "all be viewed (as you might expect) using ?."
   ]
  },
  {
   "cell_type": "code",
   "execution_count": 7,
   "metadata": {
    "collapsed": true
   },
   "outputs": [],
   "source": [
    "%debug?"
   ]
  },
  {
   "cell_type": "markdown",
   "metadata": {},
   "source": [
    "Magic functions can be used by default without the percent sign, as long as no variable\n",
    "is defined with the same name as the magic function in question. This feature is\n",
    "called automagic and can be enabled or disabled with %automagic."
   ]
  },
  {
   "cell_type": "markdown",
   "metadata": {},
   "source": [
    "Some magic functions behave like Python functions and their output can be assigned\n",
    "to a variable."
   ]
  },
  {
   "cell_type": "code",
   "execution_count": 8,
   "metadata": {
    "collapsed": false
   },
   "outputs": [
    {
     "data": {
      "text/plain": [
       "'/Users/michalsznajder/Dropbox/github/wes_mckinney_python_for_data_analysis_2nd_ed'"
      ]
     },
     "execution_count": 8,
     "metadata": {},
     "output_type": "execute_result"
    }
   ],
   "source": [
    "%pwd"
   ]
  },
  {
   "cell_type": "code",
   "execution_count": 9,
   "metadata": {
    "collapsed": true
   },
   "outputs": [],
   "source": [
    "foo = %pwd"
   ]
  },
  {
   "cell_type": "code",
   "execution_count": 10,
   "metadata": {
    "collapsed": false
   },
   "outputs": [
    {
     "data": {
      "text/plain": [
       "'/Users/michalsznajder/Dropbox/github/wes_mckinney_python_for_data_analysis_2nd_ed'"
      ]
     },
     "execution_count": 10,
     "metadata": {},
     "output_type": "execute_result"
    }
   ],
   "source": [
    "foo"
   ]
  },
  {
   "cell_type": "markdown",
   "metadata": {},
   "source": [
    "Since IPython’s documentation is accessible from within the system, I encourage you\n",
    "to explore all of the special commands available by typing %quickref or %magic."
   ]
  },
  {
   "cell_type": "code",
   "execution_count": 12,
   "metadata": {
    "collapsed": true
   },
   "outputs": [],
   "source": [
    "%magic"
   ]
  },
  {
   "cell_type": "markdown",
   "metadata": {},
   "source": [
    "Table 2-2 highlights some of the most critical ones for being productive in interactive\n",
    "computing and Python development in IPython."
   ]
  },
  {
   "cell_type": "markdown",
   "metadata": {},
   "source": [
    "```\n",
    "%quickref Display the IPython Quick Reference Card\n",
    "%magic Display detailed documentation for all of the available magic commands\n",
    "%debug Enter the interactive debugger at the bottom of the last exception traceback\n",
    "%hist Print command input (and optionally output) history\n",
    "%pdb Automatically enter debugger after any exception\n",
    "%paste Execute preformatted Python code from clipboard\n",
    "%cpaste Open a special prompt for manually pasting Python code to be executed\n",
    "%reset Delete all variables/names defined in interactive namespace\n",
    "%page OBJECT Pretty-print the object and display it through a pager\n",
    "%run script.py Run a Python script inside IPython\n",
    "%prun statement Execute statement with cProfile and report the profiler output\n",
    "%time statement Report the execution time of a single statement\n",
    "%timeit statement Run a statement multiple times to compute an ensemble average execution time; useful for\n",
    "timing code with very short execution time\n",
    "%who, %who_ls, %whos Display variables defined in interactive namespace, with varying levels of information/\n",
    "verbosity\n",
    "%xdel variable Delete a variable and attempt to clear any references to the object in the IPython internals\n",
    "```"
   ]
  },
  {
   "cell_type": "markdown",
   "metadata": {},
   "source": [
    "### Matplotlib integration\n",
    "\n",
    "One reason for IPython’s popularity in analytical computing is that it integrates well\n",
    "with data visualization and other user interface libraries like matplotlib. \n",
    "\n",
    "The %matplotlib magic function configures its integration with the IPython\n",
    "shell or Jupyter notebook. This is important, as otherwise plots you create will\n",
    "either not appear (notebook) or take control of the session until closed (shell).\n",
    "\n",
    "In the IPython shell, running %matplotlib sets up the integration so you can create\n",
    "multiple plot windows without interfering with the console session."
   ]
  },
  {
   "cell_type": "code",
   "execution_count": 13,
   "metadata": {
    "collapsed": false
   },
   "outputs": [
    {
     "name": "stdout",
     "output_type": "stream",
     "text": [
      "Using matplotlib backend: MacOSX\n"
     ]
    }
   ],
   "source": [
    "%matplotlib"
   ]
  },
  {
   "cell_type": "markdown",
   "metadata": {},
   "source": [
    "In Jupyter, the command is a little different."
   ]
  },
  {
   "cell_type": "code",
   "execution_count": 14,
   "metadata": {
    "collapsed": true
   },
   "outputs": [],
   "source": [
    "%matplotlib inline"
   ]
  },
  {
   "cell_type": "markdown",
   "metadata": {},
   "source": [
    "## 2.3 Python language basics\n",
    "\n",
    "### Language semantics\n",
    "\n",
    "The Python language design is distinguished by its emphasis on readability, simplicity,\n",
    "and explicitness. Some people go so far as to liken it to “executable pseudocode.”"
   ]
  },
  {
   "cell_type": "markdown",
   "metadata": {},
   "source": [
    "#### Indentation, not braces\n",
    "\n",
    "Python uses whitespace (tabs or spaces) to structure code instead of using braces as in\n",
    "many other languages like R, C++, Java, and Perl. Consider a for loop from a sorting\n",
    "algorithm."
   ]
  },
  {
   "cell_type": "code",
   "execution_count": 15,
   "metadata": {
    "collapsed": false
   },
   "outputs": [
    {
     "name": "stdout",
     "output_type": "stream",
     "text": [
      "a\n",
      "b\n",
      "b\n"
     ]
    }
   ],
   "source": [
    "array = [1, 2, 3]\n",
    "for x in array:\n",
    "    if x < 2:\n",
    "        print(\"a\")\n",
    "    else:\n",
    "        print(\"b\")"
   ]
  },
  {
   "cell_type": "markdown",
   "metadata": {},
   "source": [
    "A colon denotes the start of an indented code block after which all of the code must\n",
    "be indented by the same amount until the end of the block."
   ]
  },
  {
   "cell_type": "markdown",
   "metadata": {},
   "source": [
    "Love it or hate it, significant whitespace is a fact of life for Python programmers, and\n",
    "in my experience it can make Python code more readable than other languages I’ve\n",
    "used. While it may seem foreign at first, you will hopefully grow accustomed in time."
   ]
  },
  {
   "cell_type": "markdown",
   "metadata": {},
   "source": [
    "I strongly recommend using four spaces as your default indentation\n",
    "and replacing tabs with four spaces. Many text editors have a setting\n",
    "that will replace tab stops with spaces automatically (do this!).\n",
    "Some people use tabs or a different number of spaces, with two\n",
    "spaces not being terribly uncommon. By and large, four spaces is\n",
    "the standard adopted by the vast majority of Python programmers,\n",
    "so I recommend doing that in the absence of a compelling reason\n",
    "otherwise."
   ]
  },
  {
   "cell_type": "markdown",
   "metadata": {},
   "source": [
    "Semicolons can be used, however, to separate multiple statements on a single\n",
    "line."
   ]
  },
  {
   "cell_type": "code",
   "execution_count": 16,
   "metadata": {
    "collapsed": true
   },
   "outputs": [],
   "source": [
    "a = 5; b = 6; c = 7"
   ]
  },
  {
   "cell_type": "markdown",
   "metadata": {},
   "source": [
    "Putting multiple statements on one line is generally discouraged in Python as it often\n",
    "makes code less readable."
   ]
  },
  {
   "cell_type": "markdown",
   "metadata": {},
   "source": [
    "#### Everything is an object\n",
    "\n",
    "An important characteristic of the Python language is the consistency of its object\n",
    "model. Every number, string, data structure, function, class, module, and so on exists\n",
    "in the Python interpreter in its own “box,” which is referred to as a Python object.\n",
    "Each object has an associated type (e.g., string or function) and internal data. In practice\n",
    "this makes the language very flexible, as even functions can be treated like any\n",
    "other object."
   ]
  },
  {
   "cell_type": "markdown",
   "metadata": {},
   "source": [
    "#### Comments\n",
    "\n",
    "Any text preceded by the hash mark (pound sign) # is ignored by the Python interpreter.\n",
    "This is often used to add comments to code. At times you may also want to\n",
    "exclude certain blocks of code without deleting them. An easy solution is to comment\n",
    "out the code."
   ]
  },
  {
   "cell_type": "code",
   "execution_count": 17,
   "metadata": {
    "collapsed": true
   },
   "outputs": [],
   "source": [
    "# this is \n",
    "# not code"
   ]
  },
  {
   "cell_type": "markdown",
   "metadata": {},
   "source": [
    "Comments can also occur after a line of executed code. While some programmers\n",
    "prefer comments to be placed in the line preceding a particular line of code, this can\n",
    "be useful at times."
   ]
  },
  {
   "cell_type": "code",
   "execution_count": 18,
   "metadata": {
    "collapsed": false
   },
   "outputs": [
    {
     "name": "stdout",
     "output_type": "stream",
     "text": [
      "Reached this line\n"
     ]
    }
   ],
   "source": [
    "print(\"Reached this line\") # Simple status report"
   ]
  },
  {
   "cell_type": "markdown",
   "metadata": {},
   "source": [
    "#### Function and object method calls\n",
    "\n",
    "You call functions using parentheses and passing zero or more arguments, optionally\n",
    "assigning the returned value to a variable."
   ]
  },
  {
   "cell_type": "code",
   "execution_count": 21,
   "metadata": {
    "collapsed": false
   },
   "outputs": [
    {
     "data": {
      "text/plain": [
       "9"
      ]
     },
     "execution_count": 21,
     "metadata": {},
     "output_type": "execute_result"
    }
   ],
   "source": [
    "def f(x, y, z):\n",
    "    return x + y + z\n",
    "\n",
    "f(2, 3, 4)"
   ]
  },
  {
   "cell_type": "markdown",
   "metadata": {},
   "source": [
    "Almost every object in Python has attached functions, known as methods, that have\n",
    "access to the object’s internal contents. You can call them using the following syntax."
   ]
  },
  {
   "cell_type": "code",
   "execution_count": 22,
   "metadata": {
    "collapsed": true
   },
   "outputs": [],
   "source": [
    "t = [1, 2, 3]"
   ]
  },
  {
   "cell_type": "code",
   "execution_count": 23,
   "metadata": {
    "collapsed": true
   },
   "outputs": [],
   "source": [
    "t.append(4)"
   ]
  },
  {
   "cell_type": "markdown",
   "metadata": {},
   "source": [
    "Functions can take both positional and keyword arguments."
   ]
  },
  {
   "cell_type": "code",
   "execution_count": 24,
   "metadata": {
    "collapsed": true
   },
   "outputs": [],
   "source": [
    "def d(a, b, c, d=5, e=\"foo\"):\n",
    "    pass\n",
    "\n",
    "d(1, 2, 3)"
   ]
  },
  {
   "cell_type": "markdown",
   "metadata": {},
   "source": [
    "#### Variables and arguments passing\n",
    "\n",
    "When assigning a variable (or name) in Python, you are creating a reference to the\n",
    "object on the righthand side of the equals sign. In practical terms, consider a list of\n",
    "integers."
   ]
  },
  {
   "cell_type": "code",
   "execution_count": 25,
   "metadata": {
    "collapsed": true
   },
   "outputs": [],
   "source": [
    "a = [1, 2, 3]"
   ]
  },
  {
   "cell_type": "markdown",
   "metadata": {},
   "source": [
    "Suppose we assign a to a new variable b."
   ]
  },
  {
   "cell_type": "code",
   "execution_count": 26,
   "metadata": {
    "collapsed": true
   },
   "outputs": [],
   "source": [
    "b = a"
   ]
  },
  {
   "cell_type": "markdown",
   "metadata": {},
   "source": [
    "In some languages, this assignment would cause the data [1, 2, 3] to be copied. In\n",
    "Python, a and b actually now refer to the same object, the original list [1, 2, 3] (see\n",
    "Figure 2-7 for a mockup). You can prove this to yourself by appending an element to\n",
    "a and then examining b."
   ]
  },
  {
   "cell_type": "code",
   "execution_count": 27,
   "metadata": {
    "collapsed": true
   },
   "outputs": [],
   "source": [
    "a.append(4)"
   ]
  },
  {
   "cell_type": "code",
   "execution_count": 28,
   "metadata": {
    "collapsed": false
   },
   "outputs": [
    {
     "data": {
      "text/plain": [
       "[1, 2, 3, 4]"
      ]
     },
     "execution_count": 28,
     "metadata": {},
     "output_type": "execute_result"
    }
   ],
   "source": [
    "b"
   ]
  },
  {
   "cell_type": "code",
   "execution_count": 29,
   "metadata": {
    "collapsed": false
   },
   "outputs": [
    {
     "data": {
      "text/plain": [
       "[1, 2, 3, 4]"
      ]
     },
     "execution_count": 29,
     "metadata": {},
     "output_type": "execute_result"
    }
   ],
   "source": [
    "a"
   ]
  },
  {
   "cell_type": "markdown",
   "metadata": {
    "collapsed": true
   },
   "source": [
    "Understanding the semantics of references in Python and when, how, and why data is\n",
    "copied is especially critical when you are working with larger datasets in Python."
   ]
  },
  {
   "cell_type": "markdown",
   "metadata": {},
   "source": [
    "Assignment is also referred to as binding, as we are binding a name\n",
    "to an object. Variable names that have been assigned may occasionally\n",
    "be referred to as bound variables."
   ]
  },
  {
   "cell_type": "markdown",
   "metadata": {},
   "source": [
    "When you pass objects as arguments to a function, new local variables are created referencing\n",
    "the original objects without any copying. If you bind a new object to a variable\n",
    "inside a function, that change will not be reflected in the parent scope. It is\n",
    "therefore possible to alter the internals of a mutable argument. Suppose we had the\n",
    "following function."
   ]
  },
  {
   "cell_type": "code",
   "execution_count": 30,
   "metadata": {
    "collapsed": true
   },
   "outputs": [],
   "source": [
    "def append_element(some_list, element):\n",
    "    some_list.append(element)"
   ]
  },
  {
   "cell_type": "code",
   "execution_count": 32,
   "metadata": {
    "collapsed": true
   },
   "outputs": [],
   "source": [
    "data = [1, 2, 3]\n",
    "append_element(data, 4)"
   ]
  },
  {
   "cell_type": "code",
   "execution_count": 33,
   "metadata": {
    "collapsed": false
   },
   "outputs": [
    {
     "data": {
      "text/plain": [
       "[1, 2, 3, 4]"
      ]
     },
     "execution_count": 33,
     "metadata": {},
     "output_type": "execute_result"
    }
   ],
   "source": [
    "data"
   ]
  },
  {
   "cell_type": "markdown",
   "metadata": {},
   "source": [
    "#### Dynamic references, strong types\n",
    "\n",
    "In contrast with many compiled languages, such as Java and C++, object references in\n",
    "Python have no type associated with them. There is no problem with the following."
   ]
  },
  {
   "cell_type": "code",
   "execution_count": 34,
   "metadata": {
    "collapsed": false
   },
   "outputs": [
    {
     "data": {
      "text/plain": [
       "int"
      ]
     },
     "execution_count": 34,
     "metadata": {},
     "output_type": "execute_result"
    }
   ],
   "source": [
    "a = 5\n",
    "type(a)"
   ]
  },
  {
   "cell_type": "code",
   "execution_count": 35,
   "metadata": {
    "collapsed": false
   },
   "outputs": [
    {
     "data": {
      "text/plain": [
       "str"
      ]
     },
     "execution_count": 35,
     "metadata": {},
     "output_type": "execute_result"
    }
   ],
   "source": [
    "a = \"foo\"\n",
    "type(a)"
   ]
  },
  {
   "cell_type": "markdown",
   "metadata": {},
   "source": [
    "Variables are names for objects within a particular namespace; the type information is\n",
    "stored in the object itself. Some observers might hastily conclude that Python is not a\n",
    "“typed language.” This is not true; consider this example."
   ]
  },
  {
   "cell_type": "code",
   "execution_count": 36,
   "metadata": {
    "collapsed": false
   },
   "outputs": [
    {
     "ename": "TypeError",
     "evalue": "must be str, not int",
     "output_type": "error",
     "traceback": [
      "\u001b[0;31m---------------------------------------------------------------------------\u001b[0m",
      "\u001b[0;31mTypeError\u001b[0m                                 Traceback (most recent call last)",
      "\u001b[0;32m<ipython-input-36-f9dbf5f0b234>\u001b[0m in \u001b[0;36m<module>\u001b[0;34m()\u001b[0m\n\u001b[0;32m----> 1\u001b[0;31m \u001b[0;34m'5'\u001b[0m \u001b[0;34m+\u001b[0m \u001b[0;36m5\u001b[0m\u001b[0;34m\u001b[0m\u001b[0m\n\u001b[0m",
      "\u001b[0;31mTypeError\u001b[0m: must be str, not int"
     ]
    }
   ],
   "source": [
    "'5' + 5"
   ]
  },
  {
   "cell_type": "markdown",
   "metadata": {},
   "source": [
    "In some languages, such as Visual Basic, the string '5' might get implicitly converted\n",
    "(or casted) to an integer, thus yielding 10. Yet in other languages, such as JavaScript,\n",
    "the integer 5 might be casted to a string, yielding the concatenated string '55'. In this\n",
    "regard Python is considered a strongly typed language, which means that every object\n",
    "has a specific type (or class), and implicit conversions will occur only in certain obvious\n",
    "circumstances, such as the following."
   ]
  },
  {
   "cell_type": "code",
   "execution_count": 37,
   "metadata": {
    "collapsed": true
   },
   "outputs": [],
   "source": [
    "a = 4.5\n",
    "b = 2"
   ]
  },
  {
   "cell_type": "code",
   "execution_count": 39,
   "metadata": {
    "collapsed": false
   },
   "outputs": [
    {
     "name": "stdout",
     "output_type": "stream",
     "text": [
      "a is <class 'float'>, b is <class 'int'>\n"
     ]
    }
   ],
   "source": [
    "# String formatting, to be visited later\n",
    "print(\"a is {0}, b is {1}\".format(type(a), type(b)))"
   ]
  },
  {
   "cell_type": "code",
   "execution_count": 40,
   "metadata": {
    "collapsed": false
   },
   "outputs": [
    {
     "data": {
      "text/plain": [
       "2.25"
      ]
     },
     "execution_count": 40,
     "metadata": {},
     "output_type": "execute_result"
    }
   ],
   "source": [
    "a / b"
   ]
  },
  {
   "cell_type": "markdown",
   "metadata": {},
   "source": [
    "Knowing the type of an object is important, and it’s useful to be able to write functions\n",
    "that can handle many different kinds of input. You can check that an object is an\n",
    "instance of a particular type using the isinstance function."
   ]
  },
  {
   "cell_type": "code",
   "execution_count": 41,
   "metadata": {
    "collapsed": true
   },
   "outputs": [],
   "source": [
    "a = 5"
   ]
  },
  {
   "cell_type": "code",
   "execution_count": 42,
   "metadata": {
    "collapsed": false
   },
   "outputs": [
    {
     "data": {
      "text/plain": [
       "True"
      ]
     },
     "execution_count": 42,
     "metadata": {},
     "output_type": "execute_result"
    }
   ],
   "source": [
    "isinstance(a, int)"
   ]
  },
  {
   "cell_type": "markdown",
   "metadata": {},
   "source": [
    "isinstance can accept a tuple of types if you want to check that an object’s type is\n",
    "among those present in the tuple."
   ]
  },
  {
   "cell_type": "code",
   "execution_count": 43,
   "metadata": {
    "collapsed": true
   },
   "outputs": [],
   "source": [
    "a = 5\n",
    "b = 4.5"
   ]
  },
  {
   "cell_type": "code",
   "execution_count": 44,
   "metadata": {
    "collapsed": false
   },
   "outputs": [
    {
     "data": {
      "text/plain": [
       "True"
      ]
     },
     "execution_count": 44,
     "metadata": {},
     "output_type": "execute_result"
    }
   ],
   "source": [
    "isinstance(a, (int, float))"
   ]
  },
  {
   "cell_type": "code",
   "execution_count": 45,
   "metadata": {
    "collapsed": false
   },
   "outputs": [
    {
     "data": {
      "text/plain": [
       "True"
      ]
     },
     "execution_count": 45,
     "metadata": {},
     "output_type": "execute_result"
    }
   ],
   "source": [
    "isinstance(b, (int, float))"
   ]
  },
  {
   "cell_type": "markdown",
   "metadata": {},
   "source": [
    "#### Attributes and methods\n",
    "\n",
    "Objects in Python typically have both attributes (other Python objects stored “inside”\n",
    "the object) and methods (functions associated with an object that can have access to\n",
    "the object’s internal data). Both of them are accessed via the syntax\n",
    "obj.attribute_name."
   ]
  },
  {
   "cell_type": "code",
   "execution_count": 46,
   "metadata": {
    "collapsed": true
   },
   "outputs": [],
   "source": [
    "a = \"foo\""
   ]
  },
  {
   "cell_type": "markdown",
   "metadata": {},
   "source": [
    "Use `a.<tab>`."
   ]
  },
  {
   "cell_type": "code",
   "execution_count": null,
   "metadata": {
    "collapsed": true
   },
   "outputs": [],
   "source": [
    "a."
   ]
  },
  {
   "cell_type": "markdown",
   "metadata": {},
   "source": [
    "Attributes and methods can also be accessed by name via the getattr function."
   ]
  },
  {
   "cell_type": "code",
   "execution_count": 47,
   "metadata": {
    "collapsed": false
   },
   "outputs": [
    {
     "data": {
      "text/plain": [
       "<function str.split>"
      ]
     },
     "execution_count": 47,
     "metadata": {},
     "output_type": "execute_result"
    }
   ],
   "source": [
    "getattr(a, \"split\")"
   ]
  },
  {
   "cell_type": "markdown",
   "metadata": {},
   "source": [
    "In other languages, accessing objects by name is often referred to as “reflection.”\n",
    "While we will not extensively use the functions getattr and related functions\n",
    "hasattr and setattr in this book, they can be used very effectively to write generic,\n",
    "reusable code."
   ]
  },
  {
   "cell_type": "markdown",
   "metadata": {},
   "source": [
    "#### Duck typing\n",
    "\n",
    "Often you may not care about the type of an object but rather only whether it has\n",
    "certain methods or behavior. This is sometimes called “duck typing,” after the saying\n",
    "“If it walks like a duck and quacks like a duck, then it’s a duck.” For example, you can\n",
    "verify that an object is iterable if it implemented the iterator protocol. For many\n",
    "objects, this means it has a __iter__ “magic method,” though an alternative and better\n",
    "way to check is to try using the iter function."
   ]
  },
  {
   "cell_type": "code",
   "execution_count": 48,
   "metadata": {
    "collapsed": true
   },
   "outputs": [],
   "source": [
    "def isiterable(obj):\n",
    "    try:\n",
    "        iter(obj)\n",
    "        return True\n",
    "    except TypeError: # not iterable\n",
    "        return False\n",
    "    "
   ]
  },
  {
   "cell_type": "markdown",
   "metadata": {},
   "source": [
    "This function would return True for strings as well as most Python collection types:"
   ]
  },
  {
   "cell_type": "code",
   "execution_count": 49,
   "metadata": {
    "collapsed": false
   },
   "outputs": [
    {
     "data": {
      "text/plain": [
       "True"
      ]
     },
     "execution_count": 49,
     "metadata": {},
     "output_type": "execute_result"
    }
   ],
   "source": [
    "isiterable(\"a string\")"
   ]
  },
  {
   "cell_type": "code",
   "execution_count": 50,
   "metadata": {
    "collapsed": false
   },
   "outputs": [
    {
     "data": {
      "text/plain": [
       "True"
      ]
     },
     "execution_count": 50,
     "metadata": {},
     "output_type": "execute_result"
    }
   ],
   "source": [
    "isiterable([1, 2, 3])"
   ]
  },
  {
   "cell_type": "code",
   "execution_count": 51,
   "metadata": {
    "collapsed": false
   },
   "outputs": [
    {
     "data": {
      "text/plain": [
       "False"
      ]
     },
     "execution_count": 51,
     "metadata": {},
     "output_type": "execute_result"
    }
   ],
   "source": [
    "isiterable(5)"
   ]
  },
  {
   "cell_type": "markdown",
   "metadata": {},
   "source": [
    "A place where I use this functionality all the time is to write functions that can accept\n",
    "multiple kinds of input. A common case is writing a function that can accept any\n",
    "kind of sequence (list, tuple, ndarray) or even an iterator. You can first check if the\n",
    "object is a list (or a NumPy array) and, if it is not, convert it to be one."
   ]
  },
  {
   "cell_type": "code",
   "execution_count": 52,
   "metadata": {
    "collapsed": true
   },
   "outputs": [],
   "source": [
    "if not isinstance(x, list) and isiterable(x):\n",
    "    x = list(x)"
   ]
  },
  {
   "cell_type": "markdown",
   "metadata": {},
   "source": [
    "#### Imports\n",
    "\n",
    "In Python a module is simply a file with the .py extension containing Python code.\n",
    "Suppose that we had the following module."
   ]
  },
  {
   "cell_type": "code",
   "execution_count": 54,
   "metadata": {
    "collapsed": false
   },
   "outputs": [],
   "source": [
    "# some_module.py\n",
    "PI = 3.14159\n",
    "\n",
    "def f(x):\n",
    "    return x + 2\n",
    "\n",
    "\n",
    "def g(a, b):\n",
    "    return a + b"
   ]
  },
  {
   "cell_type": "markdown",
   "metadata": {},
   "source": [
    "If we wanted to access the variables and functions defined in some_module.py, from\n",
    "another file in the same directory we could do."
   ]
  },
  {
   "cell_type": "code",
   "execution_count": 60,
   "metadata": {
    "collapsed": false
   },
   "outputs": [],
   "source": [
    "import some_module\n",
    "result = some_module.f(5)\n",
    "pi = some_module.PI"
   ]
  },
  {
   "cell_type": "markdown",
   "metadata": {},
   "source": [
    "Or we could do this equivalently."
   ]
  },
  {
   "cell_type": "code",
   "execution_count": 61,
   "metadata": {
    "collapsed": true
   },
   "outputs": [],
   "source": [
    "from some_module import f, g, PI"
   ]
  },
  {
   "cell_type": "markdown",
   "metadata": {},
   "source": [
    "By using the as keyword you can give imports different variable names."
   ]
  },
  {
   "cell_type": "code",
   "execution_count": 63,
   "metadata": {
    "collapsed": false
   },
   "outputs": [],
   "source": [
    "import some_module as sm\n",
    "from some_module import PI as pi, g as gf\n",
    "\n",
    "r1 = sm.f(pi)\n",
    "r2 = gf(5, pi)"
   ]
  },
  {
   "cell_type": "markdown",
   "metadata": {},
   "source": [
    "#### Binary operators and comparisons\n",
    "\n",
    "Most of the binary math operations and comparisons are as you might expect."
   ]
  },
  {
   "cell_type": "code",
   "execution_count": 64,
   "metadata": {
    "collapsed": false
   },
   "outputs": [
    {
     "data": {
      "text/plain": [
       "-2"
      ]
     },
     "execution_count": 64,
     "metadata": {},
     "output_type": "execute_result"
    }
   ],
   "source": [
    "5 - 7"
   ]
  },
  {
   "cell_type": "code",
   "execution_count": 65,
   "metadata": {
    "collapsed": false
   },
   "outputs": [
    {
     "data": {
      "text/plain": [
       "33.5"
      ]
     },
     "execution_count": 65,
     "metadata": {},
     "output_type": "execute_result"
    }
   ],
   "source": [
    "12 + 21.5"
   ]
  },
  {
   "cell_type": "markdown",
   "metadata": {},
   "source": [
    "To check if two references refer to the same object, use the is keyword. is not is also\n",
    "perfectly valid if you want to check that two objects are not the same."
   ]
  },
  {
   "cell_type": "code",
   "execution_count": 66,
   "metadata": {
    "collapsed": true
   },
   "outputs": [],
   "source": [
    "a = [1, 2, 3]\n",
    "\n",
    "b = a\n",
    "\n",
    "c = list(a)"
   ]
  },
  {
   "cell_type": "code",
   "execution_count": 67,
   "metadata": {
    "collapsed": false
   },
   "outputs": [
    {
     "data": {
      "text/plain": [
       "True"
      ]
     },
     "execution_count": 67,
     "metadata": {},
     "output_type": "execute_result"
    }
   ],
   "source": [
    "a is b"
   ]
  },
  {
   "cell_type": "code",
   "execution_count": 68,
   "metadata": {
    "collapsed": false
   },
   "outputs": [
    {
     "data": {
      "text/plain": [
       "True"
      ]
     },
     "execution_count": 68,
     "metadata": {},
     "output_type": "execute_result"
    }
   ],
   "source": [
    "a is not c "
   ]
  },
  {
   "cell_type": "markdown",
   "metadata": {},
   "source": [
    "Since list always creates a new Python list (i.e., a copy), we can be sure that c is distinct\n",
    "from a. Comparing with is is not the same as the == operator, because in this\n",
    "case we have."
   ]
  },
  {
   "cell_type": "code",
   "execution_count": 69,
   "metadata": {
    "collapsed": false
   },
   "outputs": [
    {
     "data": {
      "text/plain": [
       "True"
      ]
     },
     "execution_count": 69,
     "metadata": {},
     "output_type": "execute_result"
    }
   ],
   "source": [
    "a == c"
   ]
  },
  {
   "cell_type": "markdown",
   "metadata": {},
   "source": [
    "A very common use of is and is not is to check if a variable is None, since there is\n",
    "only one instance of None."
   ]
  },
  {
   "cell_type": "code",
   "execution_count": 70,
   "metadata": {
    "collapsed": true
   },
   "outputs": [],
   "source": [
    "a = None"
   ]
  },
  {
   "cell_type": "code",
   "execution_count": 71,
   "metadata": {
    "collapsed": false
   },
   "outputs": [
    {
     "data": {
      "text/plain": [
       "True"
      ]
     },
     "execution_count": 71,
     "metadata": {},
     "output_type": "execute_result"
    }
   ],
   "source": [
    "a is None"
   ]
  },
  {
   "cell_type": "markdown",
   "metadata": {},
   "source": [
    "All binary operators:\n",
    "\n",
    "```\n",
    "a + b Add a and b\n",
    "a - b Subtract b from a\n",
    "a * b Multiply a by b\n",
    "a / b Divide a by b\n",
    "a // b Floor-divide a by b, dropping any fractional remainder\n",
    "a ** b Raise a to the b power\n",
    "a & b True if both a and b are True; for integers, take the bitwise AND\n",
    "a | b True if either a or b is True; for integers, take the bitwise OR\n",
    "a ^ b For booleans, True if a or b is True, but not both; for integers, take the bitwise EXCLUSIVE-OR\n",
    "a == b True if a equals b\n",
    "a != b True if a is not equal to b\n",
    "a <= b, a < b True if a is less than (less than or equal) to b\n",
    "a > b, a >= b True if a is greater than (greater than or equal) to b\n",
    "a is b True if a and b reference the same Python object\n",
    "a is not b True if a and b reference different Python objects\n",
    "```"
   ]
  },
  {
   "cell_type": "markdown",
   "metadata": {},
   "source": [
    "#### Mutable and immutable objects\n",
    "\n",
    "Most objects in Python, such as lists, dicts, NumPy arrays, and most user-defined\n",
    "types (classes), are mutable. This means that the object or values that they contain can\n",
    "be modified."
   ]
  },
  {
   "cell_type": "code",
   "execution_count": 73,
   "metadata": {
    "collapsed": false
   },
   "outputs": [
    {
     "data": {
      "text/plain": [
       "['foo', 2, (3, 4)]"
      ]
     },
     "execution_count": 73,
     "metadata": {},
     "output_type": "execute_result"
    }
   ],
   "source": [
    "a_list = [\"foo\", 2, [4, 5]]\n",
    "a_list[2] = (3, 4)\n",
    "a_list"
   ]
  },
  {
   "cell_type": "markdown",
   "metadata": {},
   "source": [
    "Others, like strings and tuples, are immutable."
   ]
  },
  {
   "cell_type": "code",
   "execution_count": 74,
   "metadata": {
    "collapsed": false
   },
   "outputs": [
    {
     "ename": "NameError",
     "evalue": "name 'a_tupe' is not defined",
     "output_type": "error",
     "traceback": [
      "\u001b[0;31m---------------------------------------------------------------------------\u001b[0m",
      "\u001b[0;31mNameError\u001b[0m                                 Traceback (most recent call last)",
      "\u001b[0;32m<ipython-input-74-a5a7092045f9>\u001b[0m in \u001b[0;36m<module>\u001b[0;34m()\u001b[0m\n\u001b[1;32m      1\u001b[0m \u001b[0ma_tuple\u001b[0m \u001b[0;34m=\u001b[0m \u001b[0;34m(\u001b[0m\u001b[0;36m3\u001b[0m\u001b[0;34m,\u001b[0m \u001b[0;36m5\u001b[0m\u001b[0;34m,\u001b[0m \u001b[0;34m(\u001b[0m\u001b[0;36m4\u001b[0m\u001b[0;34m,\u001b[0m \u001b[0;36m5\u001b[0m\u001b[0;34m)\u001b[0m\u001b[0;34m)\u001b[0m\u001b[0;34m\u001b[0m\u001b[0m\n\u001b[0;32m----> 2\u001b[0;31m \u001b[0ma_tupe\u001b[0m\u001b[0;34m[\u001b[0m\u001b[0;36m1\u001b[0m\u001b[0;34m]\u001b[0m \u001b[0;34m=\u001b[0m \u001b[0;34m\"four\"\u001b[0m\u001b[0;34m\u001b[0m\u001b[0m\n\u001b[0m",
      "\u001b[0;31mNameError\u001b[0m: name 'a_tupe' is not defined"
     ]
    }
   ],
   "source": [
    "a_tuple = (3, 5, (4, 5))\n",
    "a_tupe[1] = \"four\""
   ]
  },
  {
   "cell_type": "markdown",
   "metadata": {},
   "source": [
    "Remember that just because you can mutate an object does not mean that you always\n",
    "should. Such actions are known as side effects. For example, when writing a function,\n",
    "any side effects should be explicitly communicated to the user in the function’s documentation\n",
    "or comments. If possible, I recommend trying to avoid side effects and\n",
    "favor immutability, even though there may be mutable objects involved."
   ]
  },
  {
   "cell_type": "markdown",
   "metadata": {},
   "source": [
    "### Scalar types\n",
    "\n",
    "Python along with its standard library has a small set of built-in types for handling\n",
    "numerical data, strings, boolean (True or False) values, and dates and time. These\n",
    "“single value” types are sometimes called scalar types and we refer to them in this\n",
    "book as scalars. See Table 2-4 for a list of the main scalar types. Date and time handling\n",
    "will be discussed separately, as these are provided by the datetime module in\n",
    "the standard library.\n",
    "\n",
    "```\n",
    "- None The Python “null” value (only one instance of the None object exists)\n",
    "- str String type; holds Unicode (UTF-8 encoded) strings\n",
    "- bytes Raw ASCII bytes (or Unicode encoded as bytes)\n",
    "- float Double-precision (64-bit) floating-point number (note there is no separate double type)\n",
    "- bool A True or False value\n",
    "- int Arbitrary precision signed integer\n",
    "```"
   ]
  },
  {
   "cell_type": "markdown",
   "metadata": {},
   "source": [
    "#### Strings"
   ]
  },
  {
   "cell_type": "markdown",
   "metadata": {},
   "source": [
    "Python strings are immutable; you cannot modify a string."
   ]
  },
  {
   "cell_type": "code",
   "execution_count": 75,
   "metadata": {
    "collapsed": false
   },
   "outputs": [
    {
     "ename": "TypeError",
     "evalue": "'str' object does not support item assignment",
     "output_type": "error",
     "traceback": [
      "\u001b[0;31m---------------------------------------------------------------------------\u001b[0m",
      "\u001b[0;31mTypeError\u001b[0m                                 Traceback (most recent call last)",
      "\u001b[0;32m<ipython-input-75-4a15d4931209>\u001b[0m in \u001b[0;36m<module>\u001b[0;34m()\u001b[0m\n\u001b[1;32m      1\u001b[0m \u001b[0ma\u001b[0m \u001b[0;34m=\u001b[0m \u001b[0;34m\"this is a string\"\u001b[0m\u001b[0;34m\u001b[0m\u001b[0m\n\u001b[0;32m----> 2\u001b[0;31m \u001b[0ma\u001b[0m\u001b[0;34m[\u001b[0m\u001b[0;36m10\u001b[0m\u001b[0;34m]\u001b[0m \u001b[0;34m=\u001b[0m \u001b[0;34m\"F\"\u001b[0m\u001b[0;34m\u001b[0m\u001b[0m\n\u001b[0m",
      "\u001b[0;31mTypeError\u001b[0m: 'str' object does not support item assignment"
     ]
    }
   ],
   "source": [
    "a = \"this is a string\"\n",
    "a[10] = \"F\""
   ]
  },
  {
   "cell_type": "markdown",
   "metadata": {},
   "source": [
    "Many Python objects can be converted to a string using the str function."
   ]
  },
  {
   "cell_type": "code",
   "execution_count": 76,
   "metadata": {
    "collapsed": false
   },
   "outputs": [
    {
     "data": {
      "text/plain": [
       "'5.6'"
      ]
     },
     "execution_count": 76,
     "metadata": {},
     "output_type": "execute_result"
    }
   ],
   "source": [
    "str(5.6)"
   ]
  },
  {
   "cell_type": "markdown",
   "metadata": {},
   "source": [
    "Strings are a sequence of Unicode characters and therefore can be treated like other\n",
    "sequences, such as lists and tuples."
   ]
  },
  {
   "cell_type": "code",
   "execution_count": 78,
   "metadata": {
    "collapsed": false
   },
   "outputs": [
    {
     "data": {
      "text/plain": [
       "['p', 'y', 't', 'h', 'o', 'n']"
      ]
     },
     "execution_count": 78,
     "metadata": {},
     "output_type": "execute_result"
    }
   ],
   "source": [
    "s = \"python\"\n",
    "list(s)"
   ]
  },
  {
   "cell_type": "markdown",
   "metadata": {},
   "source": [
    "And can be sliced."
   ]
  },
  {
   "cell_type": "code",
   "execution_count": 79,
   "metadata": {
    "collapsed": false
   },
   "outputs": [
    {
     "data": {
      "text/plain": [
       "'hon'"
      ]
     },
     "execution_count": 79,
     "metadata": {},
     "output_type": "execute_result"
    }
   ],
   "source": [
    "s[3:]"
   ]
  },
  {
   "cell_type": "markdown",
   "metadata": {},
   "source": [
    "String templating or formatting is another important topic. The number of ways to\n",
    "do so has expanded with the advent of Python 3, and here I will briefly describe the\n",
    "mechanics of one of the main interfaces. String objects have a format method that\n",
    "can be used to substitute formatted arguments into the string, producing a new\n",
    "string."
   ]
  },
  {
   "cell_type": "code",
   "execution_count": 80,
   "metadata": {
    "collapsed": true
   },
   "outputs": [],
   "source": [
    "template = \"{0:.2f} {1:s} are worth US${2:d}\""
   ]
  },
  {
   "cell_type": "markdown",
   "metadata": {},
   "source": [
    "In this string,\n",
    "* {0:.2f} means to format the first argument as a floating-point number with two\n",
    "decimal places.\n",
    "* {1:s} means to format the second argument as a string.\n",
    "* {2:d} means to format the third argument as an exact integer."
   ]
  },
  {
   "cell_type": "markdown",
   "metadata": {},
   "source": [
    "To substitute arguments for these format parameters, we pass a sequence of arguments\n",
    "to the format method."
   ]
  },
  {
   "cell_type": "code",
   "execution_count": 81,
   "metadata": {
    "collapsed": false
   },
   "outputs": [
    {
     "data": {
      "text/plain": [
       "'4.56 Argentine Pesos are worth US$1'"
      ]
     },
     "execution_count": 81,
     "metadata": {},
     "output_type": "execute_result"
    }
   ],
   "source": [
    "template.format(4.5560, \"Argentine Pesos\", 1)"
   ]
  },
  {
   "cell_type": "markdown",
   "metadata": {},
   "source": [
    "#### Bytes and unicode\n",
    "\n",
    "In modern Python (i.e., Python 3.0 and up), Unicode has become the first-class string\n",
    "type to enable more consistent handling of ASCII and non-ASCII text. In older versions\n",
    "of Python, strings were all bytes without any explicit Unicode encoding. You\n",
    "could convert to Unicode assuming you knew the character encoding. Let’s look at an\n",
    "example."
   ]
  },
  {
   "cell_type": "code",
   "execution_count": 82,
   "metadata": {
    "collapsed": false
   },
   "outputs": [
    {
     "data": {
      "text/plain": [
       "'español'"
      ]
     },
     "execution_count": 82,
     "metadata": {},
     "output_type": "execute_result"
    }
   ],
   "source": [
    "val = \"español\"\n",
    "val"
   ]
  },
  {
   "cell_type": "markdown",
   "metadata": {},
   "source": [
    "We can convert this Unicode string to its UTF-8 bytes representation using the\n",
    "encode method."
   ]
  },
  {
   "cell_type": "code",
   "execution_count": 83,
   "metadata": {
    "collapsed": false
   },
   "outputs": [
    {
     "data": {
      "text/plain": [
       "b'espa\\xc3\\xb1ol'"
      ]
     },
     "execution_count": 83,
     "metadata": {},
     "output_type": "execute_result"
    }
   ],
   "source": [
    "val_utf8 = val.encode(\"utf-8\")\n",
    "val_utf8"
   ]
  },
  {
   "cell_type": "code",
   "execution_count": 84,
   "metadata": {
    "collapsed": false
   },
   "outputs": [
    {
     "data": {
      "text/plain": [
       "bytes"
      ]
     },
     "execution_count": 84,
     "metadata": {},
     "output_type": "execute_result"
    }
   ],
   "source": [
    "type(val_utf8)"
   ]
  },
  {
   "cell_type": "markdown",
   "metadata": {},
   "source": [
    "Assuming you know the Unicode encoding of a bytes object, you can go back using\n",
    "the decode method."
   ]
  },
  {
   "cell_type": "code",
   "execution_count": 85,
   "metadata": {
    "collapsed": false
   },
   "outputs": [
    {
     "data": {
      "text/plain": [
       "'español'"
      ]
     },
     "execution_count": 85,
     "metadata": {},
     "output_type": "execute_result"
    }
   ],
   "source": [
    "val_utf8.decode(\"utf-8\")"
   ]
  },
  {
   "cell_type": "markdown",
   "metadata": {},
   "source": [
    "While it’s become preferred to use UTF-8 for any encoding, for historical reasons you\n",
    "may encounter data in any number of different encodings."
   ]
  },
  {
   "cell_type": "code",
   "execution_count": 86,
   "metadata": {
    "collapsed": false
   },
   "outputs": [
    {
     "data": {
      "text/plain": [
       "b'espa\\xf1ol'"
      ]
     },
     "execution_count": 86,
     "metadata": {},
     "output_type": "execute_result"
    }
   ],
   "source": [
    "val.encode(\"latin1\")"
   ]
  },
  {
   "cell_type": "code",
   "execution_count": 87,
   "metadata": {
    "collapsed": false
   },
   "outputs": [
    {
     "data": {
      "text/plain": [
       "b'\\xff\\xfee\\x00s\\x00p\\x00a\\x00\\xf1\\x00o\\x00l\\x00'"
      ]
     },
     "execution_count": 87,
     "metadata": {},
     "output_type": "execute_result"
    }
   ],
   "source": [
    "val.encode(\"utf-16\")"
   ]
  },
  {
   "cell_type": "code",
   "execution_count": 88,
   "metadata": {
    "collapsed": false
   },
   "outputs": [
    {
     "data": {
      "text/plain": [
       "b'e\\x00s\\x00p\\x00a\\x00\\xf1\\x00o\\x00l\\x00'"
      ]
     },
     "execution_count": 88,
     "metadata": {},
     "output_type": "execute_result"
    }
   ],
   "source": [
    "val.encode(\"utf-16le\")"
   ]
  },
  {
   "cell_type": "markdown",
   "metadata": {},
   "source": [
    "It is most common to encounter bytes objects in the context of working with files,\n",
    "where implicitly decoding all data to Unicode strings may not be desired.\n",
    "\n",
    "Though you may seldom need to do so, you can define your own byte literals by prefixing\n",
    "a string with b."
   ]
  },
  {
   "cell_type": "code",
   "execution_count": 90,
   "metadata": {
    "collapsed": false
   },
   "outputs": [
    {
     "data": {
      "text/plain": [
       "b'this is bytes'"
      ]
     },
     "execution_count": 90,
     "metadata": {},
     "output_type": "execute_result"
    }
   ],
   "source": [
    "bytes_val = b\"this is bytes\"\n",
    "bytes_val"
   ]
  },
  {
   "cell_type": "code",
   "execution_count": 92,
   "metadata": {
    "collapsed": false
   },
   "outputs": [
    {
     "data": {
      "text/plain": [
       "'this is bytes'"
      ]
     },
     "execution_count": 92,
     "metadata": {},
     "output_type": "execute_result"
    }
   ],
   "source": [
    "decoded = bytes_val.decode(\"utf-8\") # this is str (Unicode) now\n",
    "decoded"
   ]
  },
  {
   "cell_type": "markdown",
   "metadata": {},
   "source": [
    "[Strings documentation](https://docs.python.org/3.6/library/string.html)"
   ]
  },
  {
   "cell_type": "markdown",
   "metadata": {},
   "source": [
    "#### None\n",
    "\n",
    "None is the Python null value type. If a function does not explicitly return a value, it\n",
    "implicitly returns None."
   ]
  },
  {
   "cell_type": "code",
   "execution_count": 93,
   "metadata": {
    "collapsed": true
   },
   "outputs": [],
   "source": [
    "a = None"
   ]
  },
  {
   "cell_type": "code",
   "execution_count": 94,
   "metadata": {
    "collapsed": false
   },
   "outputs": [
    {
     "data": {
      "text/plain": [
       "True"
      ]
     },
     "execution_count": 94,
     "metadata": {},
     "output_type": "execute_result"
    }
   ],
   "source": [
    "a is None"
   ]
  },
  {
   "cell_type": "code",
   "execution_count": 96,
   "metadata": {
    "collapsed": false
   },
   "outputs": [
    {
     "data": {
      "text/plain": [
       "True"
      ]
     },
     "execution_count": 96,
     "metadata": {},
     "output_type": "execute_result"
    }
   ],
   "source": [
    "b = 5\n",
    "b is not None"
   ]
  },
  {
   "cell_type": "markdown",
   "metadata": {},
   "source": [
    "None is also a common default value for function arguments."
   ]
  },
  {
   "cell_type": "code",
   "execution_count": 97,
   "metadata": {
    "collapsed": true
   },
   "outputs": [],
   "source": [
    "def add_and_maybe_multiply(a, b, c=None):\n",
    "    result = a + b\n",
    "    \n",
    "    if c is not None:\n",
    "        result = result * c\n",
    "        \n",
    "    return result"
   ]
  },
  {
   "cell_type": "markdown",
   "metadata": {},
   "source": [
    "While a technical point, it’s worth bearing in mind that None is not only a reserved\n",
    "keyword but also a unique instance of NoneType."
   ]
  },
  {
   "cell_type": "code",
   "execution_count": 98,
   "metadata": {
    "collapsed": false
   },
   "outputs": [
    {
     "data": {
      "text/plain": [
       "NoneType"
      ]
     },
     "execution_count": 98,
     "metadata": {},
     "output_type": "execute_result"
    }
   ],
   "source": [
    "type(None)"
   ]
  },
  {
   "cell_type": "markdown",
   "metadata": {},
   "source": [
    "#### Dates and times"
   ]
  },
  {
   "cell_type": "markdown",
   "metadata": {},
   "source": [
    "The built-in Python datetime module provides datetime, date, and time types. The\n",
    "datetime type, as you may imagine, combines the information stored in date and\n",
    "time and is the most commonly used."
   ]
  },
  {
   "cell_type": "code",
   "execution_count": 99,
   "metadata": {
    "collapsed": true
   },
   "outputs": [],
   "source": [
    "from datetime import datetime, date, time"
   ]
  },
  {
   "cell_type": "code",
   "execution_count": 100,
   "metadata": {
    "collapsed": true
   },
   "outputs": [],
   "source": [
    "dt = datetime(2011, 10, 29, 20, 30, 21)"
   ]
  },
  {
   "cell_type": "code",
   "execution_count": 102,
   "metadata": {
    "collapsed": false
   },
   "outputs": [
    {
     "data": {
      "text/plain": [
       "29"
      ]
     },
     "execution_count": 102,
     "metadata": {},
     "output_type": "execute_result"
    }
   ],
   "source": [
    "dt.day"
   ]
  },
  {
   "cell_type": "code",
   "execution_count": 103,
   "metadata": {
    "collapsed": false
   },
   "outputs": [
    {
     "data": {
      "text/plain": [
       "30"
      ]
     },
     "execution_count": 103,
     "metadata": {},
     "output_type": "execute_result"
    }
   ],
   "source": [
    "dt.minute"
   ]
  },
  {
   "cell_type": "markdown",
   "metadata": {},
   "source": [
    "Given a datetime instance, you can extract the equivalent date and time objects by\n",
    "calling methods on the datetime of the same name."
   ]
  },
  {
   "cell_type": "code",
   "execution_count": 104,
   "metadata": {
    "collapsed": false
   },
   "outputs": [
    {
     "data": {
      "text/plain": [
       "datetime.date(2011, 10, 29)"
      ]
     },
     "execution_count": 104,
     "metadata": {},
     "output_type": "execute_result"
    }
   ],
   "source": [
    "dt.date()"
   ]
  },
  {
   "cell_type": "code",
   "execution_count": 105,
   "metadata": {
    "collapsed": false
   },
   "outputs": [
    {
     "data": {
      "text/plain": [
       "datetime.time(20, 30, 21)"
      ]
     },
     "execution_count": 105,
     "metadata": {},
     "output_type": "execute_result"
    }
   ],
   "source": [
    "dt.time()"
   ]
  },
  {
   "cell_type": "markdown",
   "metadata": {},
   "source": [
    "The strftime method formats a datetime as a string."
   ]
  },
  {
   "cell_type": "code",
   "execution_count": 106,
   "metadata": {
    "collapsed": false
   },
   "outputs": [
    {
     "data": {
      "text/plain": [
       "'10/29/2011 20:30'"
      ]
     },
     "execution_count": 106,
     "metadata": {},
     "output_type": "execute_result"
    }
   ],
   "source": [
    "dt.strftime(\"%m/%d/%Y %H:%M\")"
   ]
  },
  {
   "cell_type": "markdown",
   "metadata": {},
   "source": [
    "Strings can be converted (parsed) into datetime objects with the strptime function."
   ]
  },
  {
   "cell_type": "code",
   "execution_count": 107,
   "metadata": {
    "collapsed": false
   },
   "outputs": [
    {
     "data": {
      "text/plain": [
       "datetime.datetime(2009, 10, 31, 0, 0)"
      ]
     },
     "execution_count": 107,
     "metadata": {},
     "output_type": "execute_result"
    }
   ],
   "source": [
    "datetime.strptime(\"20091031\", \"%Y%m%d\")"
   ]
  },
  {
   "cell_type": "markdown",
   "metadata": {},
   "source": [
    "See Table 2-5 for a full list of format specifications.\n",
    "```\n",
    "%Y Four-digit year\n",
    "%y Two-digit year\n",
    "%m Two-digit month [01, 12]\n",
    "%d Two-digit day [01, 31]\n",
    "%H Hour (24-hour clock) [00, 23]\n",
    "%I Hour (12-hour clock) [01, 12]\n",
    "%M Two-digit minute [00, 59]\n",
    "%S Second [00, 61] (seconds 60, 61 account for leap seconds)\n",
    "%w Weekday as integer [0 (Sunday), 6]\n",
    "%U Week number of the year [00, 53]; Sunday is considered the first day of the week, and days before the first Sunday of\n",
    "the year are “week 0”\n",
    "%W Week number of the year [00, 53]; Monday is considered the first day of the week, and days before the first Monday of\n",
    "the year are “week 0”\n",
    "%z UTC time zone offset as +HHMM or -HHMM; empty if time zone naive\n",
    "%F Shortcut for %Y-%m-%d (e.g., 2012-4-18)\n",
    "%D Shortcut for %m/%d/%y (e.g., 04/18/12)\n",
    "```"
   ]
  },
  {
   "cell_type": "markdown",
   "metadata": {},
   "source": [
    "When you are aggregating or otherwise grouping time series data, it will occasionally\n",
    "be useful to replace time fields of a series of datetimes—for example, replacing the\n",
    "minute and second fields with zero."
   ]
  },
  {
   "cell_type": "code",
   "execution_count": 109,
   "metadata": {
    "collapsed": false
   },
   "outputs": [
    {
     "data": {
      "text/plain": [
       "datetime.datetime(2011, 10, 29, 20, 0)"
      ]
     },
     "execution_count": 109,
     "metadata": {},
     "output_type": "execute_result"
    }
   ],
   "source": [
    "dt.replace(minute=0, second=0)"
   ]
  },
  {
   "cell_type": "markdown",
   "metadata": {},
   "source": [
    "Since datetime.datetime is an immutable type, methods like these always produce\n",
    "new objects."
   ]
  },
  {
   "cell_type": "markdown",
   "metadata": {},
   "source": [
    "The difference of two datetime objects produces a datetime.timedelta type."
   ]
  },
  {
   "cell_type": "code",
   "execution_count": 110,
   "metadata": {
    "collapsed": true
   },
   "outputs": [],
   "source": [
    "dt2 = datetime(2011, 11, 15, 22, 30)"
   ]
  },
  {
   "cell_type": "code",
   "execution_count": 111,
   "metadata": {
    "collapsed": true
   },
   "outputs": [],
   "source": [
    "delta = dt2 - dt"
   ]
  },
  {
   "cell_type": "code",
   "execution_count": 112,
   "metadata": {
    "collapsed": false
   },
   "outputs": [
    {
     "data": {
      "text/plain": [
       "datetime.timedelta(17, 7179)"
      ]
     },
     "execution_count": 112,
     "metadata": {},
     "output_type": "execute_result"
    }
   ],
   "source": [
    "delta"
   ]
  },
  {
   "cell_type": "code",
   "execution_count": 113,
   "metadata": {
    "collapsed": false
   },
   "outputs": [
    {
     "data": {
      "text/plain": [
       "datetime.timedelta"
      ]
     },
     "execution_count": 113,
     "metadata": {},
     "output_type": "execute_result"
    }
   ],
   "source": [
    "type(delta)"
   ]
  },
  {
   "cell_type": "markdown",
   "metadata": {},
   "source": [
    "The output timedelta(17, 7179) indicates that the timedelta encodes an offset of 17\n",
    "days and 7,179 seconds.\n",
    "\n",
    "Adding a timedelta to a datetime produces a new shifted datetime."
   ]
  },
  {
   "cell_type": "code",
   "execution_count": 114,
   "metadata": {
    "collapsed": false
   },
   "outputs": [
    {
     "data": {
      "text/plain": [
       "datetime.datetime(2011, 10, 29, 20, 30, 21)"
      ]
     },
     "execution_count": 114,
     "metadata": {},
     "output_type": "execute_result"
    }
   ],
   "source": [
    "dt"
   ]
  },
  {
   "cell_type": "code",
   "execution_count": 115,
   "metadata": {
    "collapsed": false
   },
   "outputs": [
    {
     "data": {
      "text/plain": [
       "datetime.datetime(2011, 11, 15, 22, 30)"
      ]
     },
     "execution_count": 115,
     "metadata": {},
     "output_type": "execute_result"
    }
   ],
   "source": [
    "dt + delta"
   ]
  },
  {
   "cell_type": "markdown",
   "metadata": {},
   "source": [
    "### Control flow"
   ]
  },
  {
   "cell_type": "code",
   "execution_count": 116,
   "metadata": {
    "collapsed": true
   },
   "outputs": [],
   "source": [
    "x = 2\n",
    "\n",
    "if x < 0:\n",
    "    pass\n",
    "elif x == 0:\n",
    "    pass\n",
    "elif x > 0 or x > 2:\n",
    "    pass\n",
    "else:\n",
    "    pass"
   ]
  },
  {
   "cell_type": "markdown",
   "metadata": {},
   "source": [
    "pass is the “no-op” statement in Python."
   ]
  },
  {
   "cell_type": "code",
   "execution_count": 119,
   "metadata": {
    "collapsed": false
   },
   "outputs": [
    {
     "name": "stdout",
     "output_type": "stream",
     "text": [
      "0\n",
      "1\n",
      "2\n",
      "4\n",
      "5\n",
      "6\n"
     ]
    }
   ],
   "source": [
    "for val in range(10):\n",
    "    if val == 7:\n",
    "        break\n",
    "    if val == 3:\n",
    "        continue\n",
    "    print(val)"
   ]
  },
  {
   "cell_type": "code",
   "execution_count": 120,
   "metadata": {
    "collapsed": true
   },
   "outputs": [],
   "source": [
    "x = 256\n",
    "total = 0\n",
    "while x > 0:\n",
    "    if total > 500:\n",
    "        break\n",
    "    total += x\n",
    "    x = x // 2"
   ]
  },
  {
   "cell_type": "markdown",
   "metadata": {},
   "source": [
    "The range function returns an iterator that yields a sequence of evenly spaced\n",
    "integers."
   ]
  },
  {
   "cell_type": "code",
   "execution_count": 121,
   "metadata": {
    "collapsed": false
   },
   "outputs": [
    {
     "data": {
      "text/plain": [
       "range(0, 10)"
      ]
     },
     "execution_count": 121,
     "metadata": {},
     "output_type": "execute_result"
    }
   ],
   "source": [
    "range(10)"
   ]
  },
  {
   "cell_type": "code",
   "execution_count": 124,
   "metadata": {
    "collapsed": false
   },
   "outputs": [
    {
     "data": {
      "text/plain": [
       "[5, 4, 3, 2, 1]"
      ]
     },
     "execution_count": 124,
     "metadata": {},
     "output_type": "execute_result"
    }
   ],
   "source": [
    "list(range(5, 0, -1))"
   ]
  },
  {
   "cell_type": "markdown",
   "metadata": {},
   "source": [
    "As you can see, range produces integers up to but not including the endpoint."
   ]
  },
  {
   "cell_type": "markdown",
   "metadata": {},
   "source": [
    "ternary expression in Python allows you to combine an if-else block that produces\n",
    "a value into a single line or expression. The syntax for this in Python is:\n",
    "\n",
    "```\n",
    "value = true-expr if condition else false-expr\n",
    "```\n",
    "\n",
    "Here, true-expr and false-expr can be any Python expressions. It has the identical\n",
    "effect as the more verbose:\n",
    "```\n",
    "if condition:\n",
    "value = true-expr\n",
    "else:\n",
    "value = false-expr\n",
    "```"
   ]
  },
  {
   "cell_type": "code",
   "execution_count": 125,
   "metadata": {
    "collapsed": true
   },
   "outputs": [],
   "source": [
    "x = 5"
   ]
  },
  {
   "cell_type": "code",
   "execution_count": 126,
   "metadata": {
    "collapsed": false
   },
   "outputs": [
    {
     "data": {
      "text/plain": [
       "'Non-negative'"
      ]
     },
     "execution_count": 126,
     "metadata": {},
     "output_type": "execute_result"
    }
   ],
   "source": [
    "\"Non-negative\" if x >= 0 else \"Negative\""
   ]
  },
  {
   "cell_type": "markdown",
   "metadata": {},
   "source": [
    "As with if-else blocks, only one of the expressions will be executed. Thus, the “if ”\n",
    "and “else” sides of the ternary expression could contain costly computations, but only\n",
    "the true branch is ever evaluated.\n",
    "\n",
    "While it may be tempting to always use ternary expressions to condense your code,\n",
    "realize that you may sacrifice readability if the condition as well as the true and false\n",
    "expressions are very complex."
   ]
  },
  {
   "cell_type": "code",
   "execution_count": null,
   "metadata": {
    "collapsed": true
   },
   "outputs": [],
   "source": []
  }
 ],
 "metadata": {
  "kernelspec": {
   "display_name": "Python 3",
   "language": "python",
   "name": "python3"
  },
  "language_info": {
   "codemirror_mode": {
    "name": "ipython",
    "version": 3
   },
   "file_extension": ".py",
   "mimetype": "text/x-python",
   "name": "python",
   "nbconvert_exporter": "python",
   "pygments_lexer": "ipython3",
   "version": "3.6.3"
  }
 },
 "nbformat": 4,
 "nbformat_minor": 2
}
